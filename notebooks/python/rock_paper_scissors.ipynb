{
 "cells": [
  {
   "cell_type": "code",
   "execution_count": 1,
   "id": "75ad55a4",
   "metadata": {},
   "outputs": [],
   "source": [
    "import random"
   ]
  },
  {
   "cell_type": "code",
   "execution_count": 2,
   "id": "d4667d45",
   "metadata": {},
   "outputs": [],
   "source": [
    "class Opponent:\n",
    "    def __init__(self):\n",
    "        self.__what = ''\n",
    "    \n",
    "    def randoms(self):\n",
    "        digit = random.randint(0, 2)\n",
    "        self.__what = ['rock', 'paper', 'scissors'][digit]\n",
    "    \n",
    "    def get_what(self):\n",
    "        return self.__what"
   ]
  },
  {
   "cell_type": "code",
   "execution_count": 3,
   "id": "c441dd03",
   "metadata": {},
   "outputs": [],
   "source": [
    "def eval_game(game1, game2):\n",
    "    game_dict = {\n",
    "        'rock': {'rock': 'tie', 'paper': 'lose', 'scissors': 'win'},\n",
    "        'paper': {'rock': 'win', 'paper': 'tie', 'scissors': 'lose'},\n",
    "        'scissors': {'rock': 'lose', 'paper': 'win', 'scissors': 'tie'}\n",
    "    }\n",
    "    result = game_dict[game1][game2]\n",
    "    return result"
   ]
  },
  {
   "cell_type": "code",
   "execution_count": 4,
   "id": "c9a4ee78",
   "metadata": {},
   "outputs": [],
   "source": [
    "choices = [\n",
    "    'rock', 'rock', 'paper', \n",
    "    'rock', 'scissors', 'paper', \n",
    "    'paper', 'scissors', 'rock',\n",
    "    'scissors', 'rock', 'paper',\n",
    "]"
   ]
  },
  {
   "cell_type": "code",
   "execution_count": 5,
   "id": "d8475fc2",
   "metadata": {},
   "outputs": [],
   "source": [
    "def main():\n",
    "    Op = Opponent()\n",
    "\n",
    "    player_profit = 0\n",
    "    op_profit = 0\n",
    "\n",
    "    print(\"\"\"\n",
    "Welcome to the game: Rock, Paper, Scissors!\n",
    "Good luck out there,\n",
    "Score goal: 3\n",
    "Be my guest, start (rock, paper, scissors):\n",
    "        \"\"\")\n",
    "\n",
    "    i = 0\n",
    "    while player_profit < 3 and op_profit < 3:\n",
    "        game = choices[i]\n",
    "\n",
    "        Op.randoms()\n",
    "        game2 = Op.get_what()\n",
    "\n",
    "        if game in ['rock', 'paper', 'scissors']:\n",
    "            print('\\nYou picked: {}'.format(game), end = '')\n",
    "            print('\\tI picked: {}'.format(game2))\n",
    "        else:\n",
    "            print('Input not found. You lose.')\n",
    "            return\n",
    "        \n",
    "        result = eval_game(game, game2)\n",
    "        if result == 'win':\n",
    "            print('You win!')\n",
    "            player_profit += 1\n",
    "        elif result == 'lose':\n",
    "            print('I win!')\n",
    "            op_profit += 1\n",
    "        else:\n",
    "            print('It\\'s a tie!')\n",
    "        \n",
    "        print('Your score: {}'.format(player_profit))\n",
    "        i += 1\n",
    "    \n",
    "    if player_profit > op_profit:\n",
    "        print('You win the game!')\n",
    "    elif player_profit < op_profit:\n",
    "        print('I win the game!')"
   ]
  },
  {
   "cell_type": "code",
   "execution_count": 6,
   "id": "264d6d20",
   "metadata": {},
   "outputs": [
    {
     "name": "stdout",
     "output_type": "stream",
     "text": [
      "\n",
      "Welcome to the game: Rock, Paper, Scissors!\n",
      "Good luck out there,\n",
      "Score goal: 3\n",
      "Be my guest, start (rock, paper, scissors):\n",
      "        \n",
      "\n",
      "You picked: rock\tI picked: scissors\n",
      "You win!\n",
      "Your score: 1\n",
      "\n",
      "You picked: rock\tI picked: paper\n",
      "I win!\n",
      "Your score: 1\n",
      "\n",
      "You picked: paper\tI picked: paper\n",
      "It's a tie!\n",
      "Your score: 1\n",
      "\n",
      "You picked: rock\tI picked: scissors\n",
      "You win!\n",
      "Your score: 2\n",
      "\n",
      "You picked: scissors\tI picked: rock\n",
      "I win!\n",
      "Your score: 2\n",
      "\n",
      "You picked: paper\tI picked: rock\n",
      "You win!\n",
      "Your score: 3\n",
      "You win the game!\n"
     ]
    }
   ],
   "source": [
    "main()"
   ]
  }
 ],
 "metadata": {
  "kernelspec": {
   "display_name": "Python 3",
   "language": "python",
   "name": "python3"
  },
  "language_info": {
   "codemirror_mode": {
    "name": "ipython",
    "version": 3
   },
   "file_extension": ".py",
   "mimetype": "text/x-python",
   "name": "python",
   "nbconvert_exporter": "python",
   "pygments_lexer": "ipython3",
   "version": "3.12.1"
  }
 },
 "nbformat": 4,
 "nbformat_minor": 5
}
