{
 "cells": [
  {
   "cell_type": "code",
   "execution_count": 1,
   "id": "bf34f984",
   "metadata": {},
   "outputs": [],
   "source": [
    "letter_scores = {\n",
    "    1: 'aeioulnrst',\n",
    "    2: 'dg',\n",
    "    3: 'bcmp',\n",
    "    4: 'fhvwy',\n",
    "    5: 'k',\n",
    "    8: 'jx',\n",
    "    10: 'qz'\n",
    "}"
   ]
  },
  {
   "cell_type": "code",
   "execution_count": 2,
   "id": "8ca096b9",
   "metadata": {},
   "outputs": [
    {
     "name": "stdout",
     "output_type": "stream",
     "text": [
      "Total letters: 26\n"
     ]
    }
   ],
   "source": [
    "# Quick bug check, make sure all letters are accounted for\n",
    "sum = 0\n",
    "for score, letters in letter_scores.items():\n",
    "    sum += len(letters)\n",
    "print(f\"Total letters: {sum}\")"
   ]
  },
  {
   "cell_type": "code",
   "execution_count": 3,
   "id": "db917c9e",
   "metadata": {},
   "outputs": [],
   "source": [
    "def score_word(word):\n",
    "    score = 0\n",
    "    for char in word.lower():\n",
    "        for k, v in letter_scores.items():\n",
    "            if char in v:\n",
    "                score += k\n",
    "    return score"
   ]
  },
  {
   "cell_type": "code",
   "execution_count": 4,
   "id": "6cfe49ef",
   "metadata": {},
   "outputs": [
    {
     "data": {
      "text/plain": [
       "19"
      ]
     },
     "execution_count": 4,
     "metadata": {},
     "output_type": "execute_result"
    }
   ],
   "source": [
    "score_word('prplecake')"
   ]
  }
 ],
 "metadata": {
  "kernelspec": {
   "display_name": "Python 3",
   "language": "python",
   "name": "python3"
  },
  "language_info": {
   "codemirror_mode": {
    "name": "ipython",
    "version": 3
   },
   "file_extension": ".py",
   "mimetype": "text/x-python",
   "name": "python",
   "nbconvert_exporter": "python",
   "pygments_lexer": "ipython3",
   "version": "3.12.1"
  }
 },
 "nbformat": 4,
 "nbformat_minor": 5
}
